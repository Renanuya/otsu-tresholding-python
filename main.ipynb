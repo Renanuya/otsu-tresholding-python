{
 "cells": [
  {
   "cell_type": "code",
   "execution_count": null,
   "id": "3de7d654",
   "metadata": {},
   "outputs": [],
   "source": [
    "import matplotlib.pyplot as plt\n",
    "import numpy as np"
   ]
  },
  {
   "cell_type": "code",
   "execution_count": null,
   "id": "2a51e6dc",
   "metadata": {},
   "outputs": [],
   "source": [
    "histogram = {\n",
    "    100: 12, 101: 18, 102: 32, 103: 48, 104: 52, 105: 65, 106: 55, 107: 42, 108: 32, 109: 16,\n",
    "    110: 10, 140: 5, 141: 18, 142: 25, 143: 32, 144: 40, 145: 65, 146: 43, 147: 32, 148: 20,\n",
    "    149: 10, 150: 4\n",
    "}"
   ]
  },
  {
   "cell_type": "code",
   "execution_count": null,
   "id": "1d95f631",
   "metadata": {},
   "outputs": [],
   "source": [
    "total = sum(histogram.values())\n",
    "sum_all = sum(t * histData for t, histData in histogram.items())\n",
    "sumB = 0\n",
    "wB = 0\n",
    "varMax = 0\n",
    "threshold = 0"
   ]
  },
  {
   "cell_type": "code",
   "execution_count": null,
   "id": "5ca598f8",
   "metadata": {},
   "outputs": [],
   "source": [
    "thresholds = list(range(100, 151))\n",
    "results = []"
   ]
  },
  {
   "cell_type": "code",
   "execution_count": null,
   "id": "d026dd44",
   "metadata": {},
   "outputs": [],
   "source": [
    "for t in thresholds:\n",
    "    if t in histogram:\n",
    "        wB += histogram[t]\n",
    "        if wB == 0:\n",
    "            continue\n",
    "\n",
    "        wF = total - wB\n",
    "        if wF == 0:\n",
    "            break\n",
    "\n",
    "        sumB += t * histogram[t]\n",
    "\n",
    "        mB = sumB / wB\n",
    "        mF = (sum_all - sumB) / wF\n",
    "\n",
    "        varBetween = wB * wF * (mB - mF) ** 2\n",
    "\n",
    "        vB = varBetween / total\n",
    "        vF = varBetween / total\n",
    "        wC = varBetween\n",
    "\n",
    "        if varBetween > varMax:\n",
    "            varMax = varBetween\n",
    "            threshold = t\n",
    "\n",
    "        results.append((t, wB / total, mB, vB, wF / total, mF, vF, wC))\n",
    "        print(\"wB:\", wB, \"wF:\", wF, \"sumB:\", sumB, \"mB:\", mB, \"mF:\", mF, \"varBetween:\", varBetween, \"Threshold:\", t,\n",
    "              \"Variance:\", varBetween)"
   ]
  },
  {
   "cell_type": "code",
   "execution_count": null,
   "id": "01cf840f",
   "metadata": {},
   "outputs": [],
   "source": [
    "print(\"Optimal Threshold:\", threshold)"
   ]
  },
  {
   "cell_type": "code",
   "execution_count": null,
   "id": "e67bc785",
   "metadata": {},
   "outputs": [],
   "source": [
    "def plot_histogram(ax, histogram, t):\n",
    "    keys = list(histogram.keys())\n",
    "    values = list(histogram.values())\n",
    "    ax.bar(keys, values, color=['black' if k < t else 'white' for k in keys], edgecolor='black')\n",
    "    ax.set_title(f'Threshold = {t}', fontsize=10)\n",
    "    ax.set_xticks(range(min(keys), max(keys) + 1, 5))\n",
    "    ax.set_yticks(range(0, max(values) + 1, 10))\n",
    "    ax.set_xlim(min(keys) - 1, max(keys) + 1)\n",
    "    ax.set_ylim(0, max(values) + 1)\n",
    "    ax.tick_params(axis='x', rotation=45)\n",
    "    ax.grid(True, linestyle='--', alpha=0.6)"
   ]
  },
  {
   "cell_type": "code",
   "execution_count": null,
   "id": "0f47b7b5",
   "metadata": {},
   "outputs": [],
   "source": [
    "def create_combined_figure(results_subset, start_index):\n",
    "    fig, axes = plt.subplots(7, len(results_subset), figsize=(20, 15), constrained_layout=True)\n",
    "\n",
    "    for i, (t, wB, mB, vB, wF, mF, vF, wC) in enumerate(results_subset):\n",
    "        # Plot histograms\n",
    "        plot_histogram(axes[0, i], histogram, t)\n",
    "\n",
    "        # Plot weights\n",
    "        axes[1, i].text(0.5, 0.5, f'wB = {wB:.3f}', ha='center', va='center', fontsize=10,\n",
    "                        bbox=dict(facecolor='white', alpha=0.5))\n",
    "        axes[1, i].axis('off')\n",
    "\n",
    "        # Plot means\n",
    "        axes[2, i].text(0.5, 0.5, f'mB = {mB:.3f}', ha='center', va='center', fontsize=10,\n",
    "                        bbox=dict(facecolor='white', alpha=0.5))\n",
    "        axes[2, i].axis('off')\n",
    "\n",
    "        # Plot variances\n",
    "        axes[3, i].text(0.5, 0.5, f'vB = {vB:.3f}', ha='center', va='center', fontsize=10,\n",
    "                        bbox=dict(facecolor='white', alpha=0.5))\n",
    "        axes[3, i].axis('off')\n",
    "\n",
    "        # Plot weights foreground\n",
    "        axes[4, i].text(0.5, 0.5, f'wF = {wF:.3f}', ha='center', va='center', fontsize=10,\n",
    "                        bbox=dict(facecolor='white', alpha=0.5))\n",
    "        axes[4, i].axis('off')\n",
    "\n",
    "        # Plot means foreground\n",
    "        axes[5, i].text(0.5, 0.5, f'mF = {mF:.3f}', ha='center', va='center', fontsize=10,\n",
    "                        bbox=dict(facecolor='white', alpha=0.5))\n",
    "        axes[5, i].axis('off')\n",
    "\n",
    "        # Plot variances foreground\n",
    "        axes[6, i].text(0.5, 0.5, f'vF = {vF:.3f}', ha='center', va='center', fontsize=10,\n",
    "                        bbox=dict(facecolor='white', alpha=0.5))\n",
    "        axes[6, i].axis('off')\n",
    "\n",
    "    plt.suptitle('Otsu Thresholding Visualization', fontsize=16)\n",
    "    plt.show()"
   ]
  },
  {
   "cell_type": "code",
   "execution_count": null,
   "id": "eacca1e3",
   "metadata": {},
   "outputs": [],
   "source": [
    "for i in range(0, len(results), 6):\n",
    "    create_combined_figure(results[i:i + 6], i)"
   ]
  }
 ],
 "metadata": {
  "jupytext": {
   "cell_metadata_filter": "-all",
   "main_language": "python",
   "notebook_metadata_filter": "-all"
  }
 },
 "nbformat": 4,
 "nbformat_minor": 5
}
